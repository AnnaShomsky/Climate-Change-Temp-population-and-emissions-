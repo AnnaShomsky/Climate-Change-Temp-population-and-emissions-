{
 "cells": [
  {
   "cell_type": "code",
   "execution_count": 40,
   "id": "192f65ba",
   "metadata": {},
   "outputs": [],
   "source": [
    "import pandas as pd\n",
    "import numpy as np\n",
    "\n",
    "\n"
   ]
  },
  {
   "cell_type": "code",
   "execution_count": 238,
   "id": "ca0de678",
   "metadata": {},
   "outputs": [
    {
     "name": "stdout",
     "output_type": "stream",
     "text": [
      "emissions dataset \n",
      "\n",
      "                  Country Name Country Code  \\\n",
      "0                        Aruba          ABW   \n",
      "1  Africa Eastern and Southern          AFE   \n",
      "2                  Afghanistan          AFG   \n",
      "3   Africa Western and Central          AFW   \n",
      "4                       Angola          AGO   \n",
      "\n",
      "                           Indicator Name  Indicator Code  Year  \\\n",
      "0  CO2 emissions (metric tons per capita)  EN.ATM.CO2E.PC  1960   \n",
      "1  CO2 emissions (metric tons per capita)  EN.ATM.CO2E.PC  1960   \n",
      "2  CO2 emissions (metric tons per capita)  EN.ATM.CO2E.PC  1960   \n",
      "3  CO2 emissions (metric tons per capita)  EN.ATM.CO2E.PC  1960   \n",
      "4  CO2 emissions (metric tons per capita)  EN.ATM.CO2E.PC  1960   \n",
      "\n",
      "   Value_of_Emissions  \n",
      "0                 NaN  \n",
      "1            0.906060  \n",
      "2            0.046057  \n",
      "3            0.090880  \n",
      "4            0.100835  \n",
      "\n",
      " average: \n",
      "4.10493173511307\n",
      "temp dataset \n",
      "\n",
      "  Domain Code              Domain  Area Code (FAO)         Area  Element Code  \\\n",
      "0          ET  Temperature change                2  Afghanistan          7271   \n",
      "1          ET  Temperature change                2  Afghanistan          7271   \n",
      "2          ET  Temperature change                2  Afghanistan          7271   \n",
      "3          ET  Temperature change                2  Afghanistan          7271   \n",
      "4          ET  Temperature change                2  Afghanistan          7271   \n",
      "\n",
      "              Element  Months Code   Months  Year Code  Year Unit  Value Flag  \\\n",
      "0  Temperature change         7001  January       1961  1961   ?C  0.746   Fc   \n",
      "1  Temperature change         7001  January       1962  1962   ?C  0.009   Fc   \n",
      "2  Temperature change         7001  January       1963  1963   ?C  2.695   Fc   \n",
      "3  Temperature change         7001  January       1964  1964   ?C -5.277   Fc   \n",
      "4  Temperature change         7001  January       1965  1965   ?C  1.827   Fc   \n",
      "\n",
      "  Flag Description  \n",
      "0  Calculated data  \n",
      "1  Calculated data  \n",
      "2  Calculated data  \n",
      "3  Calculated data  \n",
      "4  Calculated data  \n",
      "                  Country Name Country Code     Indicator Name Indicator Code  \\\n",
      "0                        Aruba          ABW  Population, total    SP.POP.TOTL   \n",
      "1  Africa Eastern and Southern          AFE  Population, total    SP.POP.TOTL   \n",
      "2                  Afghanistan          AFG  Population, total    SP.POP.TOTL   \n",
      "3   Africa Western and Central          AFW  Population, total    SP.POP.TOTL   \n",
      "4                       Angola          AGO  Population, total    SP.POP.TOTL   \n",
      "\n",
      "   Year   Population  \n",
      "0  1960      54208.0  \n",
      "1  1960  130836765.0  \n",
      "2  1960    8996967.0  \n",
      "3  1960   96396419.0  \n",
      "4  1960    5454938.0  \n",
      "emissions and population \n",
      "\n",
      "                  Country Name Country Code_x  \\\n",
      "0                        Aruba            ABW   \n",
      "1  Africa Eastern and Southern            AFE   \n",
      "2                  Afghanistan            AFG   \n",
      "3   Africa Western and Central            AFW   \n",
      "4                       Angola            AGO   \n",
      "\n",
      "                         Indicator Name_x Indicator Code_x  Year  \\\n",
      "0  CO2 emissions (metric tons per capita)   EN.ATM.CO2E.PC  1960   \n",
      "1  CO2 emissions (metric tons per capita)   EN.ATM.CO2E.PC  1960   \n",
      "2  CO2 emissions (metric tons per capita)   EN.ATM.CO2E.PC  1960   \n",
      "3  CO2 emissions (metric tons per capita)   EN.ATM.CO2E.PC  1960   \n",
      "4  CO2 emissions (metric tons per capita)   EN.ATM.CO2E.PC  1960   \n",
      "\n",
      "   Value_of_Emissions Country Code_y   Indicator Name_y Indicator Code_y  \\\n",
      "0                 NaN            ABW  Population, total      SP.POP.TOTL   \n",
      "1            0.906060            AFE  Population, total      SP.POP.TOTL   \n",
      "2            0.046057            AFG  Population, total      SP.POP.TOTL   \n",
      "3            0.090880            AFW  Population, total      SP.POP.TOTL   \n",
      "4            0.100835            AGO  Population, total      SP.POP.TOTL   \n",
      "\n",
      "    Population  \n",
      "0      54208.0  \n",
      "1  130836765.0  \n",
      "2    8996967.0  \n",
      "3   96396419.0  \n",
      "4    5454938.0  \n",
      "added new column \n",
      "\n",
      "                  Country Name Country Code_x  \\\n",
      "0                        Aruba            ABW   \n",
      "1  Africa Eastern and Southern            AFE   \n",
      "2                  Afghanistan            AFG   \n",
      "3   Africa Western and Central            AFW   \n",
      "4                       Angola            AGO   \n",
      "\n",
      "                         Indicator Name_x Indicator Code_x  Year  \\\n",
      "0  CO2 emissions (metric tons per capita)   EN.ATM.CO2E.PC  1960   \n",
      "1  CO2 emissions (metric tons per capita)   EN.ATM.CO2E.PC  1960   \n",
      "2  CO2 emissions (metric tons per capita)   EN.ATM.CO2E.PC  1960   \n",
      "3  CO2 emissions (metric tons per capita)   EN.ATM.CO2E.PC  1960   \n",
      "4  CO2 emissions (metric tons per capita)   EN.ATM.CO2E.PC  1960   \n",
      "\n",
      "   Value_of_Emissions Country Code_y   Indicator Name_y Indicator Code_y  \\\n",
      "0                 NaN            ABW  Population, total      SP.POP.TOTL   \n",
      "1            0.906060            AFE  Population, total      SP.POP.TOTL   \n",
      "2            0.046057            AFG  Population, total      SP.POP.TOTL   \n",
      "3            0.090880            AFW  Population, total      SP.POP.TOTL   \n",
      "4            0.100835            AGO  Population, total      SP.POP.TOTL   \n",
      "\n",
      "    Population  Emissions_per_capita  \n",
      "0      54208.0                   NaN  \n",
      "1  130836765.0          6.925114e-09  \n",
      "2    8996967.0          5.119141e-09  \n",
      "3   96396419.0          9.427689e-10  \n",
      "4    5454938.0          1.848513e-08  \n",
      "temps new \n",
      "\n",
      "\n",
      " new temps \n",
      "\n",
      "                                Area Code (FAO)  Element Code  Months Code  \\\n",
      "Year Area                                                                    \n",
      "1961 Afghanistan                            2.0        7271.0  7009.882353   \n",
      "     Albania                                3.0        7271.0  7009.882353   \n",
      "     Algeria                                4.0        7271.0  7009.882353   \n",
      "     American Samoa                         5.0        7271.0  7009.882353   \n",
      "     Andorra                                6.0        7271.0  7009.882353   \n",
      "...                                         ...           ...          ...   \n",
      "2020 Wallis and Futuna Islands            243.0        7271.0  7009.882353   \n",
      "     Western Sahara                       205.0        7271.0  7009.882353   \n",
      "     Yemen                                249.0        7271.0  7009.882353   \n",
      "     Zambia                               251.0        7271.0  7009.882353   \n",
      "     Zimbabwe                             181.0        7271.0  7009.882353   \n",
      "\n",
      "                                Year Code     Value  \n",
      "Year Area                                            \n",
      "1961 Afghanistan                   1961.0 -0.017471  \n",
      "     Albania                       1961.0  0.481588  \n",
      "     Algeria                       1961.0  0.228412  \n",
      "     American Samoa                1961.0  0.024588  \n",
      "     Andorra                       1961.0  0.947941  \n",
      "...                                   ...       ...  \n",
      "2020 Wallis and Futuna Islands     2020.0  1.226529  \n",
      "     Western Sahara                2020.0  2.078176  \n",
      "     Yemen                         2020.0       NaN  \n",
      "     Zambia                        2020.0  1.131176  \n",
      "     Zimbabwe                      2020.0  0.674882  \n",
      "\n",
      "[13525 rows x 5 columns]\n"
     ]
    }
   ],
   "source": [
    "#read emissions csv\n",
    "\n",
    "emissions= pd.read_csv(\"emission.csv\")\n",
    "emissions.set_index(\"Country Code\")\n",
    "\n",
    "#read population csv\n",
    "population= pd.read_csv(\"populaiton country by year.csv\")\n",
    "population.set_index(\"Country Code\")\n",
    "\n",
    "#print(population.head())\n",
    "population.set_index(\"Country Code\")\n",
    "\n",
    "#realign emissions\n",
    "\n",
    "emissions2= emissions.melt(id_vars=[\"Country Name\", \"Country Code\", \"Indicator Name\", \"Indicator Code\"], \n",
    "        var_name=\"Year\", \n",
    "        value_name=\"Value_of_Emissions\")\n",
    "print(\"emissions dataset \\n\" )\n",
    "print(emissions2.head())\n",
    "\n",
    "#calculate average emissions\n",
    "average= emissions2[\"Value_of_Emissions\"].mean()\n",
    "print(\"\\n average: \")\n",
    "print(average)\n",
    "\n",
    "#read temperature csv\n",
    "temps= pd.read_csv(\"temperature.csv\")\n",
    "print(\"temp dataset \\n\" )\n",
    "print(temps.head())\n",
    "\n",
    "\n",
    "\n",
    "#realign population\n",
    "\n",
    "population2= population.melt(id_vars=[\"Country Name\", \"Country Code\", \"Indicator Name\", \"Indicator Code\"], \n",
    "        var_name=\"Year\", \n",
    "        value_name=\"Population\")\n",
    "\n",
    "print(population2.head())\n",
    "\n",
    "#merge populaiton to emissions\n",
    "new_df = emissions2.merge(population2, left_on=['Country Name','Year'], right_on = ['Country Name','Year'], how='left')\n",
    "\n",
    "print(\"emissions and population \\n\")\n",
    "print(new_df.head())\n",
    "new_df[\"Emissions_per_capita\"] = new_df[\"Value_of_Emissions\"]/ new_df[\"Population\"]\n",
    "print(\"added new column \\n\")\n",
    "print(new_df.head())\n",
    "\n",
    "#make new df grouped by month and averaging temp change\n",
    "\n",
    "print(\"temps new \\n\")\n",
    "new_temps= temps.groupby([\"Year\", \"Area\"]).mean()\n",
    "\n",
    "print(\"\\n new temps \\n\")\n",
    "print(new_temps)\n",
    "\n",
    "\n"
   ]
  },
  {
   "cell_type": "code",
   "execution_count": 239,
   "id": "7a9967c2",
   "metadata": {},
   "outputs": [
    {
     "name": "stdout",
     "output_type": "stream",
     "text": [
      "Index(['Domain Code', 'Domain', 'Area Code (FAO)', 'Area', 'Element Code',\n",
      "       'Element', 'Year Code', 'Year', 'Unit', 'Value', 'Flag',\n",
      "       'Flag Description'],\n",
      "      dtype='object')\n"
     ]
    },
    {
     "data": {
      "text/html": [
       "<div>\n",
       "<style scoped>\n",
       "    .dataframe tbody tr th:only-of-type {\n",
       "        vertical-align: middle;\n",
       "    }\n",
       "\n",
       "    .dataframe tbody tr th {\n",
       "        vertical-align: top;\n",
       "    }\n",
       "\n",
       "    .dataframe thead th {\n",
       "        text-align: right;\n",
       "    }\n",
       "</style>\n",
       "<table border=\"1\" class=\"dataframe\">\n",
       "  <thead>\n",
       "    <tr style=\"text-align: right;\">\n",
       "      <th></th>\n",
       "      <th></th>\n",
       "      <th>Area Code (FAO)</th>\n",
       "      <th>Element Code</th>\n",
       "      <th>Year Code</th>\n",
       "      <th>Value</th>\n",
       "    </tr>\n",
       "    <tr>\n",
       "      <th>Year</th>\n",
       "      <th>Area</th>\n",
       "      <th></th>\n",
       "      <th></th>\n",
       "      <th></th>\n",
       "      <th></th>\n",
       "    </tr>\n",
       "  </thead>\n",
       "  <tbody>\n",
       "    <tr>\n",
       "      <th rowspan=\"5\" valign=\"top\">1961</th>\n",
       "      <th>Afghanistan</th>\n",
       "      <td>2.0</td>\n",
       "      <td>7271.0</td>\n",
       "      <td>1961.0</td>\n",
       "      <td>-0.017471</td>\n",
       "    </tr>\n",
       "    <tr>\n",
       "      <th>Albania</th>\n",
       "      <td>3.0</td>\n",
       "      <td>7271.0</td>\n",
       "      <td>1961.0</td>\n",
       "      <td>0.481588</td>\n",
       "    </tr>\n",
       "    <tr>\n",
       "      <th>Algeria</th>\n",
       "      <td>4.0</td>\n",
       "      <td>7271.0</td>\n",
       "      <td>1961.0</td>\n",
       "      <td>0.228412</td>\n",
       "    </tr>\n",
       "    <tr>\n",
       "      <th>American Samoa</th>\n",
       "      <td>5.0</td>\n",
       "      <td>7271.0</td>\n",
       "      <td>1961.0</td>\n",
       "      <td>0.024588</td>\n",
       "    </tr>\n",
       "    <tr>\n",
       "      <th>Andorra</th>\n",
       "      <td>6.0</td>\n",
       "      <td>7271.0</td>\n",
       "      <td>1961.0</td>\n",
       "      <td>0.947941</td>\n",
       "    </tr>\n",
       "  </tbody>\n",
       "</table>\n",
       "</div>"
      ],
      "text/plain": [
       "                     Area Code (FAO)  Element Code  Year Code     Value\n",
       "Year Area                                                              \n",
       "1961 Afghanistan                 2.0        7271.0     1961.0 -0.017471\n",
       "     Albania                     3.0        7271.0     1961.0  0.481588\n",
       "     Algeria                     4.0        7271.0     1961.0  0.228412\n",
       "     American Samoa              5.0        7271.0     1961.0  0.024588\n",
       "     Andorra                     6.0        7271.0     1961.0  0.947941"
      ]
     },
     "execution_count": 239,
     "metadata": {},
     "output_type": "execute_result"
    }
   ],
   "source": [
    "#drop months from temps\n",
    "nomonths_temps = temps\n",
    "nomonths_temps = nomonths_temps.drop(['Months'], axis=1)\n",
    "nomonths_temps = nomonths_temps.drop(['Months Code'], axis=1)\n",
    "\n",
    "print(nomonths_temps.columns)\n",
    "\n",
    "\n",
    "nomonths_temps2= nomonths_temps.groupby([\"Year\", \"Area\"]).mean()\n",
    "nomonths_temps2.head()\n",
    "\n",
    "\n"
   ]
  },
  {
   "cell_type": "code",
   "execution_count": 298,
   "id": "7b46f997",
   "metadata": {},
   "outputs": [
    {
     "data": {
      "text/html": [
       "<div>\n",
       "<style scoped>\n",
       "    .dataframe tbody tr th:only-of-type {\n",
       "        vertical-align: middle;\n",
       "    }\n",
       "\n",
       "    .dataframe tbody tr th {\n",
       "        vertical-align: top;\n",
       "    }\n",
       "\n",
       "    .dataframe thead th {\n",
       "        text-align: right;\n",
       "    }\n",
       "</style>\n",
       "<table border=\"1\" class=\"dataframe\">\n",
       "  <thead>\n",
       "    <tr style=\"text-align: right;\">\n",
       "      <th></th>\n",
       "      <th>Domain Code</th>\n",
       "      <th>Domain</th>\n",
       "      <th>Area Code (FAO)</th>\n",
       "      <th>Area</th>\n",
       "      <th>Element Code</th>\n",
       "      <th>Element</th>\n",
       "      <th>Year Code</th>\n",
       "      <th>Year</th>\n",
       "      <th>Unit</th>\n",
       "      <th>Value</th>\n",
       "      <th>Flag</th>\n",
       "      <th>Flag Description</th>\n",
       "    </tr>\n",
       "  </thead>\n",
       "  <tbody>\n",
       "    <tr>\n",
       "      <th>0</th>\n",
       "      <td>ET</td>\n",
       "      <td>Temperature change</td>\n",
       "      <td>2</td>\n",
       "      <td>Afghanistan</td>\n",
       "      <td>7271</td>\n",
       "      <td>Temperature change</td>\n",
       "      <td>1961</td>\n",
       "      <td>1961</td>\n",
       "      <td>?C</td>\n",
       "      <td>0.746</td>\n",
       "      <td>Fc</td>\n",
       "      <td>Calculated data</td>\n",
       "    </tr>\n",
       "    <tr>\n",
       "      <th>1</th>\n",
       "      <td>ET</td>\n",
       "      <td>Temperature change</td>\n",
       "      <td>2</td>\n",
       "      <td>Afghanistan</td>\n",
       "      <td>7271</td>\n",
       "      <td>Temperature change</td>\n",
       "      <td>1962</td>\n",
       "      <td>1962</td>\n",
       "      <td>?C</td>\n",
       "      <td>0.009</td>\n",
       "      <td>Fc</td>\n",
       "      <td>Calculated data</td>\n",
       "    </tr>\n",
       "    <tr>\n",
       "      <th>2</th>\n",
       "      <td>ET</td>\n",
       "      <td>Temperature change</td>\n",
       "      <td>2</td>\n",
       "      <td>Afghanistan</td>\n",
       "      <td>7271</td>\n",
       "      <td>Temperature change</td>\n",
       "      <td>1963</td>\n",
       "      <td>1963</td>\n",
       "      <td>?C</td>\n",
       "      <td>2.695</td>\n",
       "      <td>Fc</td>\n",
       "      <td>Calculated data</td>\n",
       "    </tr>\n",
       "    <tr>\n",
       "      <th>3</th>\n",
       "      <td>ET</td>\n",
       "      <td>Temperature change</td>\n",
       "      <td>2</td>\n",
       "      <td>Afghanistan</td>\n",
       "      <td>7271</td>\n",
       "      <td>Temperature change</td>\n",
       "      <td>1964</td>\n",
       "      <td>1964</td>\n",
       "      <td>?C</td>\n",
       "      <td>-5.277</td>\n",
       "      <td>Fc</td>\n",
       "      <td>Calculated data</td>\n",
       "    </tr>\n",
       "    <tr>\n",
       "      <th>4</th>\n",
       "      <td>ET</td>\n",
       "      <td>Temperature change</td>\n",
       "      <td>2</td>\n",
       "      <td>Afghanistan</td>\n",
       "      <td>7271</td>\n",
       "      <td>Temperature change</td>\n",
       "      <td>1965</td>\n",
       "      <td>1965</td>\n",
       "      <td>?C</td>\n",
       "      <td>1.827</td>\n",
       "      <td>Fc</td>\n",
       "      <td>Calculated data</td>\n",
       "    </tr>\n",
       "  </tbody>\n",
       "</table>\n",
       "</div>"
      ],
      "text/plain": [
       "  Domain Code              Domain  Area Code (FAO)         Area  Element Code  \\\n",
       "0          ET  Temperature change                2  Afghanistan          7271   \n",
       "1          ET  Temperature change                2  Afghanistan          7271   \n",
       "2          ET  Temperature change                2  Afghanistan          7271   \n",
       "3          ET  Temperature change                2  Afghanistan          7271   \n",
       "4          ET  Temperature change                2  Afghanistan          7271   \n",
       "\n",
       "              Element  Year Code  Year Unit  Value Flag Flag Description  \n",
       "0  Temperature change       1961  1961   ?C  0.746   Fc  Calculated data  \n",
       "1  Temperature change       1962  1962   ?C  0.009   Fc  Calculated data  \n",
       "2  Temperature change       1963  1963   ?C  2.695   Fc  Calculated data  \n",
       "3  Temperature change       1964  1964   ?C -5.277   Fc  Calculated data  \n",
       "4  Temperature change       1965  1965   ?C  1.827   Fc  Calculated data  "
      ]
     },
     "execution_count": 298,
     "metadata": {},
     "output_type": "execute_result"
    }
   ],
   "source": [
    "nomonths_temps[\"Year Code\"].astype(int)\n",
    "nomonths_temps.head()\n",
    "\n",
    "\n"
   ]
  },
  {
   "cell_type": "code",
   "execution_count": 299,
   "id": "116444d7",
   "metadata": {},
   "outputs": [
    {
     "name": "stdout",
     "output_type": "stream",
     "text": [
      "          Area  Year  Value\n",
      "0  Afghanistan  1961  0.746\n",
      "1  Afghanistan  1962  0.009\n",
      "2  Afghanistan  1963  2.695\n",
      "3  Afghanistan  1964 -5.277\n",
      "4  Afghanistan  1965  1.827\n"
     ]
    }
   ],
   "source": [
    "#finalize temps without months, grouping by area and year\n",
    "\n",
    "temp_final= nomonths_temps[[\"Area\", \"Year\",\"Value\"]]\n",
    "print(temp_final.head())\n",
    "\n"
   ]
  },
  {
   "cell_type": "code",
   "execution_count": 241,
   "id": "9915ee97",
   "metadata": {},
   "outputs": [
    {
     "data": {
      "text/html": [
       "<div>\n",
       "<style scoped>\n",
       "    .dataframe tbody tr th:only-of-type {\n",
       "        vertical-align: middle;\n",
       "    }\n",
       "\n",
       "    .dataframe tbody tr th {\n",
       "        vertical-align: top;\n",
       "    }\n",
       "\n",
       "    .dataframe thead th {\n",
       "        text-align: right;\n",
       "    }\n",
       "</style>\n",
       "<table border=\"1\" class=\"dataframe\">\n",
       "  <thead>\n",
       "    <tr style=\"text-align: right;\">\n",
       "      <th></th>\n",
       "      <th>Area</th>\n",
       "      <th>Year</th>\n",
       "      <th>Value</th>\n",
       "    </tr>\n",
       "  </thead>\n",
       "  <tbody>\n",
       "    <tr>\n",
       "      <th>0</th>\n",
       "      <td>Afghanistan</td>\n",
       "      <td>1961</td>\n",
       "      <td>0.746</td>\n",
       "    </tr>\n",
       "    <tr>\n",
       "      <th>1</th>\n",
       "      <td>Afghanistan</td>\n",
       "      <td>1962</td>\n",
       "      <td>0.009</td>\n",
       "    </tr>\n",
       "    <tr>\n",
       "      <th>2</th>\n",
       "      <td>Afghanistan</td>\n",
       "      <td>1963</td>\n",
       "      <td>2.695</td>\n",
       "    </tr>\n",
       "    <tr>\n",
       "      <th>3</th>\n",
       "      <td>Afghanistan</td>\n",
       "      <td>1964</td>\n",
       "      <td>-5.277</td>\n",
       "    </tr>\n",
       "    <tr>\n",
       "      <th>4</th>\n",
       "      <td>Afghanistan</td>\n",
       "      <td>1965</td>\n",
       "      <td>1.827</td>\n",
       "    </tr>\n",
       "  </tbody>\n",
       "</table>\n",
       "</div>"
      ],
      "text/plain": [
       "          Area  Year  Value\n",
       "0  Afghanistan  1961  0.746\n",
       "1  Afghanistan  1962  0.009\n",
       "2  Afghanistan  1963  2.695\n",
       "3  Afghanistan  1964 -5.277\n",
       "4  Afghanistan  1965  1.827"
      ]
     },
     "execution_count": 241,
     "metadata": {},
     "output_type": "execute_result"
    }
   ],
   "source": []
  },
  {
   "cell_type": "code",
   "execution_count": null,
   "id": "82f075ca",
   "metadata": {},
   "outputs": [],
   "source": [
    "\n"
   ]
  },
  {
   "cell_type": "code",
   "execution_count": null,
   "id": "efce28d8",
   "metadata": {},
   "outputs": [],
   "source": [
    "\n"
   ]
  },
  {
   "cell_type": "code",
   "execution_count": 301,
   "id": "8c4c3957",
   "metadata": {},
   "outputs": [
    {
     "data": {
      "text/html": [
       "<div>\n",
       "<style scoped>\n",
       "    .dataframe tbody tr th:only-of-type {\n",
       "        vertical-align: middle;\n",
       "    }\n",
       "\n",
       "    .dataframe tbody tr th {\n",
       "        vertical-align: top;\n",
       "    }\n",
       "\n",
       "    .dataframe thead th {\n",
       "        text-align: right;\n",
       "    }\n",
       "</style>\n",
       "<table border=\"1\" class=\"dataframe\">\n",
       "  <thead>\n",
       "    <tr style=\"text-align: right;\">\n",
       "      <th></th>\n",
       "      <th>Area</th>\n",
       "      <th>Year</th>\n",
       "      <th>Value</th>\n",
       "    </tr>\n",
       "  </thead>\n",
       "  <tbody>\n",
       "    <tr>\n",
       "      <th>0</th>\n",
       "      <td>Afghanistan</td>\n",
       "      <td>1961</td>\n",
       "      <td>-0.017471</td>\n",
       "    </tr>\n",
       "    <tr>\n",
       "      <th>1</th>\n",
       "      <td>Afghanistan</td>\n",
       "      <td>1962</td>\n",
       "      <td>-0.248824</td>\n",
       "    </tr>\n",
       "    <tr>\n",
       "      <th>2</th>\n",
       "      <td>Afghanistan</td>\n",
       "      <td>1963</td>\n",
       "      <td>0.848176</td>\n",
       "    </tr>\n",
       "    <tr>\n",
       "      <th>3</th>\n",
       "      <td>Afghanistan</td>\n",
       "      <td>1964</td>\n",
       "      <td>-0.958882</td>\n",
       "    </tr>\n",
       "    <tr>\n",
       "      <th>4</th>\n",
       "      <td>Afghanistan</td>\n",
       "      <td>1965</td>\n",
       "      <td>-0.102294</td>\n",
       "    </tr>\n",
       "  </tbody>\n",
       "</table>\n",
       "</div>"
      ],
      "text/plain": [
       "          Area  Year     Value\n",
       "0  Afghanistan  1961 -0.017471\n",
       "1  Afghanistan  1962 -0.248824\n",
       "2  Afghanistan  1963  0.848176\n",
       "3  Afghanistan  1964 -0.958882\n",
       "4  Afghanistan  1965 -0.102294"
      ]
     },
     "execution_count": 301,
     "metadata": {},
     "output_type": "execute_result"
    }
   ],
   "source": [
    "#finally get the temps dataset in order\n",
    "\n",
    "\n",
    "yearly_avg2=temp_final[[\"Area\", \"Year\", \"Value\"]].groupby([\"Area\", \"Year\"],as_index=False).Value.mean()\n",
    "yearly_avg2.head()"
   ]
  },
  {
   "cell_type": "code",
   "execution_count": 302,
   "id": "3b4ad33b",
   "metadata": {},
   "outputs": [
    {
     "data": {
      "text/html": [
       "<div>\n",
       "<style scoped>\n",
       "    .dataframe tbody tr th:only-of-type {\n",
       "        vertical-align: middle;\n",
       "    }\n",
       "\n",
       "    .dataframe tbody tr th {\n",
       "        vertical-align: top;\n",
       "    }\n",
       "\n",
       "    .dataframe thead th {\n",
       "        text-align: right;\n",
       "    }\n",
       "</style>\n",
       "<table border=\"1\" class=\"dataframe\">\n",
       "  <thead>\n",
       "    <tr style=\"text-align: right;\">\n",
       "      <th></th>\n",
       "      <th>Country Name</th>\n",
       "      <th>Country Code_x</th>\n",
       "      <th>Year</th>\n",
       "      <th>Value_of_Emissions</th>\n",
       "      <th>Population</th>\n",
       "      <th>Emissions_per_capita</th>\n",
       "      <th>Area</th>\n",
       "      <th>Value</th>\n",
       "    </tr>\n",
       "  </thead>\n",
       "  <tbody>\n",
       "    <tr>\n",
       "      <th>0</th>\n",
       "      <td>Aruba</td>\n",
       "      <td>ABW</td>\n",
       "      <td>1960.0</td>\n",
       "      <td>NaN</td>\n",
       "      <td>54208.0</td>\n",
       "      <td>NaN</td>\n",
       "      <td>NaN</td>\n",
       "      <td>NaN</td>\n",
       "    </tr>\n",
       "    <tr>\n",
       "      <th>1</th>\n",
       "      <td>Africa Eastern and Southern</td>\n",
       "      <td>AFE</td>\n",
       "      <td>1960.0</td>\n",
       "      <td>0.906060</td>\n",
       "      <td>130836765.0</td>\n",
       "      <td>6.925114e-09</td>\n",
       "      <td>NaN</td>\n",
       "      <td>NaN</td>\n",
       "    </tr>\n",
       "    <tr>\n",
       "      <th>2</th>\n",
       "      <td>Afghanistan</td>\n",
       "      <td>AFG</td>\n",
       "      <td>1960.0</td>\n",
       "      <td>0.046057</td>\n",
       "      <td>8996967.0</td>\n",
       "      <td>5.119141e-09</td>\n",
       "      <td>NaN</td>\n",
       "      <td>NaN</td>\n",
       "    </tr>\n",
       "    <tr>\n",
       "      <th>3</th>\n",
       "      <td>Africa Western and Central</td>\n",
       "      <td>AFW</td>\n",
       "      <td>1960.0</td>\n",
       "      <td>0.090880</td>\n",
       "      <td>96396419.0</td>\n",
       "      <td>9.427689e-10</td>\n",
       "      <td>NaN</td>\n",
       "      <td>NaN</td>\n",
       "    </tr>\n",
       "    <tr>\n",
       "      <th>4</th>\n",
       "      <td>Angola</td>\n",
       "      <td>AGO</td>\n",
       "      <td>1960.0</td>\n",
       "      <td>0.100835</td>\n",
       "      <td>5454938.0</td>\n",
       "      <td>1.848513e-08</td>\n",
       "      <td>NaN</td>\n",
       "      <td>NaN</td>\n",
       "    </tr>\n",
       "  </tbody>\n",
       "</table>\n",
       "</div>"
      ],
      "text/plain": [
       "                  Country Name Country Code_x    Year  Value_of_Emissions  \\\n",
       "0                        Aruba            ABW  1960.0                 NaN   \n",
       "1  Africa Eastern and Southern            AFE  1960.0            0.906060   \n",
       "2                  Afghanistan            AFG  1960.0            0.046057   \n",
       "3   Africa Western and Central            AFW  1960.0            0.090880   \n",
       "4                       Angola            AGO  1960.0            0.100835   \n",
       "\n",
       "    Population  Emissions_per_capita Area  Value  \n",
       "0      54208.0                   NaN  NaN    NaN  \n",
       "1  130836765.0          6.925114e-09  NaN    NaN  \n",
       "2    8996967.0          5.119141e-09  NaN    NaN  \n",
       "3   96396419.0          9.427689e-10  NaN    NaN  \n",
       "4    5454938.0          1.848513e-08  NaN    NaN  "
      ]
     },
     "execution_count": 302,
     "metadata": {},
     "output_type": "execute_result"
    }
   ],
   "source": [
    "\n",
    "new_df.head(20)\n",
    "\n",
    "#change data types to match\n",
    "\n",
    "new_df[\"Year\"]= pd.to_numeric(new_df[\"Year\"], errors='coerce')\n",
    "\n",
    "new_df.head()\n",
    "\n",
    "\n",
    "#merge temp with the emissions+popualiton datset\n",
    "\n",
    "\n",
    "final= new_df.merge(yearly_avg2, left_on=['Country Name','Year'], right_on = ['Area','Year'], how='left')\n",
    "final.head(270)\n",
    "\n",
    "#drop unnecesay colums\n",
    "\n",
    "\n",
    "final.head()\n",
    "final2 = final.drop([\"Indicator Name_x\", \"Indicator Code_x\", \"Country Code_y\", \"Indicator Code_y\", \"Indicator Name_y\"], axis=1)\n",
    "final2.head()\n",
    "\n",
    "#We finally have a good looking dataset!!! A lot of values are missing for 1960, but that's ok! \n",
    "#Note: value = temeprature chane awawy from a value considered normal. \n",
    "#Not suere who decided what nromal is or how they decided it. I should look into that\n",
    "\n",
    "\n"
   ]
  },
  {
   "cell_type": "code",
   "execution_count": 283,
   "id": "50ba969b",
   "metadata": {},
   "outputs": [
    {
     "data": {
      "text/plain": [
       "<AxesSubplot:title={'center':'global temperature change'}, xlabel='Year'>"
      ]
     },
     "execution_count": 283,
     "metadata": {},
     "output_type": "execute_result"
    },
    {
     "data": {
      "image/png": "[encoded data removed]",
      "text/plain": [
       "<Figure size 432x288 with 1 Axes>"
      ]
     },
     "metadata": {
      "needs_background": "light"
     },
     "output_type": "display_data"
    }
   ],
   "source": [
    "#graph gloabl temperature change\n",
    "import matplotlib as plt\n",
    "global_change= final2[[\"Country Name\", \"Year\", \"Value\"]].groupby(by=\"Year\").Value.mean()\n",
    "global_change.plot(kind= \"bar\", title= \"global temperature change\")\n"
   ]
  },
  {
   "cell_type": "code",
   "execution_count": 178,
   "id": "5544d102",
   "metadata": {},
   "outputs": [
    {
     "name": "stdout",
     "output_type": "stream",
     "text": [
      "Enter a country: Somalia\n",
      "Somalia\n",
      "the average change in temperatrueaway from the norm in Somalia since 1961 is: \n",
      "0.623\n"
     ]
    },
    {
     "data": {
      "image/png": "[encoded data removed]",
      "text/plain": [
       "<Figure size 432x288 with 1 Axes>"
      ]
     },
     "metadata": {
      "needs_background": "light"
     },
     "output_type": "display_data"
    }
   ],
   "source": [
    "#Graph temperature change for any chosen country\n",
    "\n",
    "#accept input\n",
    "\n",
    "val= input(\"Enter a country: \")\n",
    "print(val)\n",
    "\n",
    "#graph\n",
    "df_country= final[[\"Area\", \"Year\", \"Value\"]].loc[(final[\"Area\"] ==val)].groupby(by=\"Year\").Value.mean()\n",
    "\n",
    "df_country.plot(kind=\"bar\", title = \"temperature change\")\n",
    "\n",
    "\n",
    "#claculate average\n",
    "average_country_temp_change= final[[\"Area\", \"Year\", \"Value\"]].loc[(final[\"Area\"] ==val)].Value.mean()\n",
    "\n",
    "rounded_average_country_temp_change = round(average_country_temp_change,3)\n",
    "print(\"the average change in temperatrueaway from the norm in \" + str(val) + \" since 1961 is: \")\n",
    "print(rounded_average_country_temp_change)"
   ]
  },
  {
   "cell_type": "code",
   "execution_count": 284,
   "id": "10a43816",
   "metadata": {},
   "outputs": [
    {
     "data": {
      "text/plain": [
       "<AxesSubplot:title={'center':'global emissions per capita'}, xlabel='Year'>"
      ]
     },
     "execution_count": 284,
     "metadata": {},
     "output_type": "execute_result"
    },
    {
     "data": {
      "image/png": "[encoded data removed]",
      "text/plain": [
       "<Figure size 432x288 with 1 Axes>"
      ]
     },
     "metadata": {
      "needs_background": "light"
     },
     "output_type": "display_data"
    }
   ],
   "source": [
    "#global emissions per capita\n",
    "\n",
    "global_emissions= final2[[\"Country Name\", \"Year\", \"Emissions_per_capita\"]].groupby(by=\"Year\").Emissions_per_capita.mean()\n",
    "global_emissions.plot(kind= \"bar\", title= \"global emissions per capita\")"
   ]
  },
  {
   "cell_type": "code",
   "execution_count": 303,
   "id": "3df7f390",
   "metadata": {},
   "outputs": [
    {
     "name": "stdout",
     "output_type": "stream",
     "text": [
      "Enter a country: Mongolia\n",
      "Mongolia\n",
      "the average emissions per capita in Mongolia since 1961 is: \n",
      "1.9559e-06\n"
     ]
    },
    {
     "data": {
      "image/png": "[encoded data removed]",
      "text/plain": [
       "<Figure size 432x288 with 1 Axes>"
      ]
     },
     "metadata": {
      "needs_background": "light"
     },
     "output_type": "display_data"
    }
   ],
   "source": [
    "\n",
    "\n",
    "\n",
    "#Emissions per capita\n",
    "\n",
    "\n",
    "valz= input(\"Enter a country: \")\n",
    "print(valz)\n",
    "\n",
    "\n",
    "df_country3= final2[[\"Country Name\", \"Year\", \"Emissions_per_capita\"]].loc[(final[\"Country Name\"] ==valz)].groupby(by=\"Year\").Emissions_per_capita.mean()\n",
    "\n",
    "df_country3.plot(kind=\"bar\", title = \"emissions per capita\")\n",
    "\n",
    "\n",
    "#claculate average\n",
    "average_country_emissions_per_capita= final2[[\"Area\", \"Year\", \"Emissions_per_capita\"]].loc[(final2[\"Area\"] ==valz)].Emissions_per_capita.mean()\n",
    "\n",
    "rounded_average_country_emissions_per_capita = round(average_country_emissions_per_capita,10)\n",
    "print(\"the average emissions per capita in \" + str(valz) + \" since 1961 is: \")\n",
    "print(rounded_average_country_emissions_per_capita)\n",
    "\n"
   ]
  },
  {
   "cell_type": "code",
   "execution_count": 287,
   "id": "87101439",
   "metadata": {},
   "outputs": [
    {
     "data": {
      "text/plain": [
       "<AxesSubplot:title={'center':'global populaiton'}, xlabel='Year'>"
      ]
     },
     "execution_count": 287,
     "metadata": {},
     "output_type": "execute_result"
    },
    {
     "data": {
      "image/png": "[encoded data removed]",
      "text/plain": [
       "<Figure size 432x288 with 1 Axes>"
      ]
     },
     "metadata": {
      "needs_background": "light"
     },
     "output_type": "display_data"
    }
   ],
   "source": [
    "#graph population of earth\n",
    "\n",
    "global_pop= final2[[\"Country Name\", \"Year\", \"Population\"]].groupby(by=\"Year\").Population.mean()\n",
    "global_pop.plot(kind= \"bar\", title= \"global populaiton\")\n"
   ]
  },
  {
   "cell_type": "code",
   "execution_count": 220,
   "id": "38dd23cf",
   "metadata": {},
   "outputs": [
    {
     "name": "stdout",
     "output_type": "stream",
     "text": [
      "Enter a country: Germany\n",
      "Germany\n",
      "the average population over the last 60 years in Germany is: \n",
      "79724672\n"
     ]
    },
    {
     "data": {
      "image/png": "[encoded data removed]",
      "text/plain": [
       "<Figure size 432x288 with 1 Axes>"
      ]
     },
     "metadata": {
      "needs_background": "light"
     },
     "output_type": "display_data"
    }
   ],
   "source": [
    "#population of any country\n",
    "\n",
    "#accept user input\n",
    "val2= input(\"Enter a country: \")\n",
    "print(val2)\n",
    "\n",
    "\n",
    "df_country3= final2[[\"Area\", \"Year\", \"Population\"]].loc[(final[\"Area\"] ==val2)].groupby(by=\"Year\").Population.mean()\n",
    "\n",
    "df_country3.plot(kind=\"bar\", title = \"Populaiton\")\n",
    "\n",
    "\n",
    "#claculate average\n",
    "average_country_pop= final2[[\"Area\", \"Year\", \"Population\"]].loc[(final2[\"Area\"] ==val2)].Population.mean()\n",
    "\n",
    "rounded_average_country_pop = round(average_country_pop)\n",
    "print(\"the average population over the last 60 years in \" + str(val2) + \" is: \")\n",
    "print(rounded_average_country_pop)"
   ]
  },
  {
   "cell_type": "code",
   "execution_count": 246,
   "id": "be0f8ce8",
   "metadata": {},
   "outputs": [
    {
     "data": {
      "text/plain": [
       "<AxesSubplot:title={'center':'global emissions'}, xlabel='Year'>"
      ]
     },
     "execution_count": 246,
     "metadata": {},
     "output_type": "execute_result"
    },
    {
     "data": {
      "image/png": "[encoded data removed]",
      "text/plain": [
       "<Figure size 432x288 with 1 Axes>"
      ]
     },
     "metadata": {
      "needs_background": "light"
     },
     "output_type": "display_data"
    }
   ],
   "source": [
    "#global emissions\n",
    "final2.head()\n",
    "\n",
    "global_emis= final2[[\"Area\", \"Year\", \"Value_of_Emissions\"]].groupby(by=\"Year\").Value_of_Emissions.mean()\n",
    "global_emis.plot(kind= \"bar\", title= \"global emissions\")\n"
   ]
  },
  {
   "cell_type": "code",
   "execution_count": 253,
   "id": "7bdb02f7",
   "metadata": {},
   "outputs": [
    {
     "name": "stdout",
     "output_type": "stream",
     "text": [
      "Enter a country: France\n",
      "France\n",
      "the average emissions over the last 60 years in France is: \n",
      "6.744\n",
      "tons of C02\n"
     ]
    },
    {
     "data": {
      "image/png": "[encoded data removed]",
      "text/plain": [
       "<Figure size 432x288 with 1 Axes>"
      ]
     },
     "metadata": {
      "needs_background": "light"
     },
     "output_type": "display_data"
    }
   ],
   "source": [
    "#graph total emissions of any country\n",
    "\n",
    "val5= input(\"Enter a country: \")\n",
    "print(val5)\n",
    "\n",
    "\n",
    "df_country4= final2[[\"Area\", \"Year\", \"Value_of_Emissions\"]].loc[(final[\"Area\"] ==val5)].groupby(by=\"Year\").Value_of_Emissions.mean()\n",
    "\n",
    "df_country4.plot(kind=\"bar\", title = \"Value_of_Emissions\")\n",
    "\n",
    "\n",
    "#claculate average\n",
    "average_country_emiss= final2[[\"Area\", \"Year\", \"Value_of_Emissions\"]].loc[(final2[\"Area\"] ==val2)].Value_of_Emissions.mean()\n",
    "\n",
    "rounded_average_country_emiss = round(average_country_emiss, 3)\n",
    "print(\"the average emissions over the last 60 years in \" + str(val5) + \" is: \")\n",
    "print(rounded_average_country_emiss)\n",
    "print(\"tons of C02\")"
   ]
  },
  {
   "cell_type": "code",
   "execution_count": 296,
   "id": "4f06e8cc",
   "metadata": {},
   "outputs": [
    {
     "name": "stdout",
     "output_type": "stream",
     "text": [
      "usa emission\n"
     ]
    },
    {
     "data": {
      "text/plain": [
       "<AxesSubplot:title={'center':'US emissions over the years'}, xlabel='Year'>"
      ]
     },
     "execution_count": 296,
     "metadata": {},
     "output_type": "execute_result"
    },
    {
     "data": {
      "image/png": "[encoded data removed]",
      "text/plain": [
       "<Figure size 432x288 with 1 Axes>"
      ]
     },
     "metadata": {
      "needs_background": "light"
     },
     "output_type": "display_data"
    }
   ],
   "source": [
    "#graph emissions just of usa\n",
    "\n",
    "print(\"usa emission\")\n",
    "df_usa= final2[[\"Country Name\", \"Year\", \"Value_of_Emissions\"]].loc[(final2[\"Country Name\"] ==\"United States\")].groupby(by=\"Year\").Value_of_Emissions.mean()\n",
    "\n",
    "df_usa.plot(kind= \"bar\", title = \"US emissions over the years\")\n",
    "\n"
   ]
  },
  {
   "cell_type": "code",
   "execution_count": 297,
   "id": "85a4d267",
   "metadata": {},
   "outputs": [
    {
     "name": "stdout",
     "output_type": "stream",
     "text": [
      "usa emission\n"
     ]
    },
    {
     "data": {
      "text/plain": [
       "<AxesSubplot:title={'center':'US  per capita emissions over the years'}, xlabel='Year'>"
      ]
     },
     "execution_count": 297,
     "metadata": {},
     "output_type": "execute_result"
    },
    {
     "data": {
      "image/png": "[encoded data removed]",
      "text/plain": [
       "<Figure size 432x288 with 1 Axes>"
      ]
     },
     "metadata": {
      "needs_background": "light"
     },
     "output_type": "display_data"
    }
   ],
   "source": [
    "#Graph us per capita emissions\n",
    "\n",
    "print(\" per capita usa emission\")\n",
    "df_usa= final2[[\"Country Name\", \"Year\", \"Emissions_per_capita\"]].loc[(final2[\"Country Name\"] ==\"United States\")].groupby(by=\"Year\").Emissions_per_capita.mean()\n",
    "\n",
    "df_usa.plot(kind= \"bar\", title = \"US  per capita emissions over the years\")\n",
    "\n"
   ]
  },
  {
   "cell_type": "code",
   "execution_count": null,
   "id": "6cb9a690",
   "metadata": {},
   "outputs": [],
   "source": []
  }
 ],
 "metadata": {
  "kernelspec": {
   "display_name": "Python 3 (ipykernel)",
   "language": "python",
   "name": "python3"
  },
  "language_info": {
   "codemirror_mode": {
    "name": "ipython",
    "version": 3
   },
   "file_extension": ".py",
   "mimetype": "text/x-python",
   "name": "python",
   "nbconvert_exporter": "python",
   "pygments_lexer": "ipython3",
   "version": "3.9.7"
  }
 },
 "nbformat": 4,
 "nbformat_minor": 5
}
