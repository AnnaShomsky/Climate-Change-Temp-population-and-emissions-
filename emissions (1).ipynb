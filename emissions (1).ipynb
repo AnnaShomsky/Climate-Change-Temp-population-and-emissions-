{
 "cells": [
  {
   "cell_type": "code",
   "execution_count": null,
   "id": "a9ca7c17",
   "metadata": {},
   "outputs": [],
   "source": [
    "import pandas as pd\n",
    "import numpy as np\n",
    "\n",
    "\n"
   ]
  },
  {
   "cell_type": "code",
   "execution_count": null,
   "id": "d6444e32",
   "metadata": {},
   "outputs": [],
   "source": [
    "#read emissions csv\n",
    "\n",
    "emissions= pd.read_csv(\"emission.csv\")\n",
    "emissions.set_index(\"Country Code\")\n",
    "\n",
    "#read population csv\n",
    "population= pd.read_csv(\"populaiton country by year.csv\")\n",
    "population.set_index(\"Country Code\")\n",
    "\n",
    "#print(population.head())\n",
    "population.set_index(\"Country Code\")\n",
    "\n",
    "#realign emissions\n",
    "\n",
    "emissions2= emissions.melt(id_vars=[\"Country Name\", \"Country Code\", \"Indicator Name\", \"Indicator Code\"], \n",
    "        var_name=\"Year\", \n",
    "        value_name=\"Value_of_Emissions\")\n",
    "print(\"emissions dataset \\n\" )\n",
    "print(emissions2.head())\n",
    "\n",
    "#calculate average emissions\n",
    "average= emissions2[\"Value_of_Emissions\"].mean()\n",
    "print(\"\\n average: \")\n",
    "print(average)\n",
    "\n",
    "#read temperature csv\n",
    "temps= pd.read_csv(\"temperature.csv\")\n",
    "print(\"temp dataset \\n\" )\n",
    "print(temps.head())\n",
    "\n",
    "\n",
    "\n",
    "#realign population\n",
    "\n",
    "population2= population.melt(id_vars=[\"Country Name\", \"Country Code\", \"Indicator Name\", \"Indicator Code\"], \n",
    "        var_name=\"Year\", \n",
    "        value_name=\"Population\")\n",
    "\n",
    "print(population2.head())\n",
    "\n",
    "#merge populaiton to emissions\n",
    "new_df = emissions2.merge(population2, left_on=['Country Name','Year'], right_on = ['Country Name','Year'], how='left')\n",
    "\n",
    "print(\"emissions and population \\n\")\n",
    "print(new_df.head())\n",
    "new_df[\"Total_emissions\"] = new_df[\"Value_of_Emissions\"] * new_df[\"Population\"]\n",
    "print(\"added new column \\n\")\n",
    "print(new_df.head())\n",
    "\n",
    "#make new df grouped by month and averaging temp change\n",
    "\n",
    "print(\"temps new \\n\")\n",
    "new_temps= temps.groupby([\"Year\", \"Area\"]).mean()\n",
    "\n",
    "print(\"\\n new temps \\n\")\n",
    "print(new_temps)\n",
    "\n",
    "\n"
   ]
  },
  {
   "cell_type": "code",
   "execution_count": 369,
   "id": "7ba2f58c",
   "metadata": {},
   "outputs": [
    {
     "name": "stdout",
     "output_type": "stream",
     "text": [
      "Index(['Domain Code', 'Domain', 'Area Code (FAO)', 'Area', 'Element Code',\n",
      "       'Element', 'Year Code', 'Year', 'Unit', 'Value', 'Flag',\n",
      "       'Flag Description'],\n",
      "      dtype='object')\n"
     ]
    },
    {
     "data": {
      "text/html": [
       "<div>\n",
       "<style scoped>\n",
       "    .dataframe tbody tr th:only-of-type {\n",
       "        vertical-align: middle;\n",
       "    }\n",
       "\n",
       "    .dataframe tbody tr th {\n",
       "        vertical-align: top;\n",
       "    }\n",
       "\n",
       "    .dataframe thead th {\n",
       "        text-align: right;\n",
       "    }\n",
       "</style>\n",
       "<table border=\"1\" class=\"dataframe\">\n",
       "  <thead>\n",
       "    <tr style=\"text-align: right;\">\n",
       "      <th></th>\n",
       "      <th></th>\n",
       "      <th>Area Code (FAO)</th>\n",
       "      <th>Element Code</th>\n",
       "      <th>Year Code</th>\n",
       "      <th>Value</th>\n",
       "    </tr>\n",
       "    <tr>\n",
       "      <th>Year</th>\n",
       "      <th>Area</th>\n",
       "      <th></th>\n",
       "      <th></th>\n",
       "      <th></th>\n",
       "      <th></th>\n",
       "    </tr>\n",
       "  </thead>\n",
       "  <tbody>\n",
       "    <tr>\n",
       "      <th rowspan=\"5\" valign=\"top\">1961</th>\n",
       "      <th>Afghanistan</th>\n",
       "      <td>2.0</td>\n",
       "      <td>7271.0</td>\n",
       "      <td>1961.0</td>\n",
       "      <td>-0.017471</td>\n",
       "    </tr>\n",
       "    <tr>\n",
       "      <th>Albania</th>\n",
       "      <td>3.0</td>\n",
       "      <td>7271.0</td>\n",
       "      <td>1961.0</td>\n",
       "      <td>0.481588</td>\n",
       "    </tr>\n",
       "    <tr>\n",
       "      <th>Algeria</th>\n",
       "      <td>4.0</td>\n",
       "      <td>7271.0</td>\n",
       "      <td>1961.0</td>\n",
       "      <td>0.228412</td>\n",
       "    </tr>\n",
       "    <tr>\n",
       "      <th>American Samoa</th>\n",
       "      <td>5.0</td>\n",
       "      <td>7271.0</td>\n",
       "      <td>1961.0</td>\n",
       "      <td>0.024588</td>\n",
       "    </tr>\n",
       "    <tr>\n",
       "      <th>Andorra</th>\n",
       "      <td>6.0</td>\n",
       "      <td>7271.0</td>\n",
       "      <td>1961.0</td>\n",
       "      <td>0.947941</td>\n",
       "    </tr>\n",
       "  </tbody>\n",
       "</table>\n",
       "</div>"
      ],
      "text/plain": [
       "                     Area Code (FAO)  Element Code  Year Code     Value\n",
       "Year Area                                                              \n",
       "1961 Afghanistan                 2.0        7271.0     1961.0 -0.017471\n",
       "     Albania                     3.0        7271.0     1961.0  0.481588\n",
       "     Algeria                     4.0        7271.0     1961.0  0.228412\n",
       "     American Samoa              5.0        7271.0     1961.0  0.024588\n",
       "     Andorra                     6.0        7271.0     1961.0  0.947941"
      ]
     },
     "execution_count": 369,
     "metadata": {},
     "output_type": "execute_result"
    }
   ],
   "source": [
    "#drop months from temps\n",
    "nomonths_temps = temps\n",
    "nomonths_temps = nomonths_temps.drop(['Months'], axis=1)\n",
    "nomonths_temps = nomonths_temps.drop(['Months Code'], axis=1)\n",
    "\n",
    "print(nomonths_temps.columns)\n",
    "\n",
    "\n",
    "nomonths_temps2= nomonths_temps.groupby([\"Year\", \"Area\"]).mean()\n",
    "nomonths_temps2.head()\n",
    "\n",
    "\n"
   ]
  },
  {
   "cell_type": "code",
   "execution_count": null,
   "id": "971e2c33",
   "metadata": {},
   "outputs": [],
   "source": [
    "nomonths_temps[\"Year Code\"].astype(int)\n",
    "nomonths_temps.head()\n",
    "\n",
    "\n"
   ]
  },
  {
   "cell_type": "code",
   "execution_count": null,
   "id": "adec4974",
   "metadata": {},
   "outputs": [],
   "source": [
    "#finalize temps without months, grouping by area and year\n",
    "\n",
    "temp_final= nomonths_temps[[\"Area\", \"Year\",\"Value\"]]\n",
    "print(temp_final.head())\n",
    "\n"
   ]
  },
  {
   "cell_type": "code",
   "execution_count": 241,
   "id": "1f747f2b",
   "metadata": {},
   "outputs": [
    {
     "data": {
      "text/html": [
       "<div>\n",
       "<style scoped>\n",
       "    .dataframe tbody tr th:only-of-type {\n",
       "        vertical-align: middle;\n",
       "    }\n",
       "\n",
       "    .dataframe tbody tr th {\n",
       "        vertical-align: top;\n",
       "    }\n",
       "\n",
       "    .dataframe thead th {\n",
       "        text-align: right;\n",
       "    }\n",
       "</style>\n",
       "<table border=\"1\" class=\"dataframe\">\n",
       "  <thead>\n",
       "    <tr style=\"text-align: right;\">\n",
       "      <th></th>\n",
       "      <th>Area</th>\n",
       "      <th>Year</th>\n",
       "      <th>Value</th>\n",
       "    </tr>\n",
       "  </thead>\n",
       "  <tbody>\n",
       "    <tr>\n",
       "      <th>0</th>\n",
       "      <td>Afghanistan</td>\n",
       "      <td>1961</td>\n",
       "      <td>0.746</td>\n",
       "    </tr>\n",
       "    <tr>\n",
       "      <th>1</th>\n",
       "      <td>Afghanistan</td>\n",
       "      <td>1962</td>\n",
       "      <td>0.009</td>\n",
       "    </tr>\n",
       "    <tr>\n",
       "      <th>2</th>\n",
       "      <td>Afghanistan</td>\n",
       "      <td>1963</td>\n",
       "      <td>2.695</td>\n",
       "    </tr>\n",
       "    <tr>\n",
       "      <th>3</th>\n",
       "      <td>Afghanistan</td>\n",
       "      <td>1964</td>\n",
       "      <td>-5.277</td>\n",
       "    </tr>\n",
       "    <tr>\n",
       "      <th>4</th>\n",
       "      <td>Afghanistan</td>\n",
       "      <td>1965</td>\n",
       "      <td>1.827</td>\n",
       "    </tr>\n",
       "  </tbody>\n",
       "</table>\n",
       "</div>"
      ],
      "text/plain": [
       "          Area  Year  Value\n",
       "0  Afghanistan  1961  0.746\n",
       "1  Afghanistan  1962  0.009\n",
       "2  Afghanistan  1963  2.695\n",
       "3  Afghanistan  1964 -5.277\n",
       "4  Afghanistan  1965  1.827"
      ]
     },
     "execution_count": 241,
     "metadata": {},
     "output_type": "execute_result"
    }
   ],
   "source": []
  },
  {
   "cell_type": "code",
   "execution_count": null,
   "id": "d4e91b80",
   "metadata": {},
   "outputs": [],
   "source": [
    "\n"
   ]
  },
  {
   "cell_type": "code",
   "execution_count": null,
   "id": "5a1b9130",
   "metadata": {},
   "outputs": [],
   "source": [
    "\n"
   ]
  },
  {
   "cell_type": "code",
   "execution_count": null,
   "id": "e88546bf",
   "metadata": {},
   "outputs": [],
   "source": [
    "#finally get the temps dataset in order\n",
    "\n",
    "\n",
    "yearly_avg2=temp_final[[\"Area\", \"Year\", \"Value\"]].groupby([\"Area\", \"Year\"],as_index=False).Value.mean()\n",
    "yearly_avg2.head()"
   ]
  },
  {
   "cell_type": "code",
   "execution_count": null,
   "id": "8b32ee05",
   "metadata": {},
   "outputs": [],
   "source": [
    "\n",
    "new_df.head(20)\n",
    "\n",
    "#change data types to match\n",
    "\n",
    "new_df[\"Year\"]= pd.to_numeric(new_df[\"Year\"], errors='coerce')\n",
    "\n",
    "new_df.head()\n",
    "\n",
    "\n",
    "#merge temp with the emissions+popualiton datset\n",
    "\n",
    "\n",
    "final= new_df.merge(yearly_avg2, left_on=['Country Name','Year'], right_on = ['Area','Year'], how='left')\n",
    "final.head(270)\n",
    "\n",
    "#drop unnecesay colums\n",
    "\n",
    "\n",
    "final.head()\n",
    "final2 = final.drop([\"Indicator Name_x\", \"Indicator Code_x\", \"Country Code_y\", \"Indicator Code_y\", \"Indicator Name_y\"], axis=1)\n",
    "final2.head()\n",
    "\n",
    "#We finally have a good looking dataset!!! A lot of values are missing for 1960, but that's ok! \n",
    "#Note: value = temeprature chane awawy from a value considered normal. \n",
    "#Not suere who decided what nromal is or how they decided it. I should look into that\n",
    "\n",
    "\n"
   ]
  },
  {
   "cell_type": "code",
   "execution_count": null,
   "id": "88298ced",
   "metadata": {},
   "outputs": [],
   "source": [
    "#graph gloabl temperature change\n",
    "import matplotlib as plt\n",
    "global_change= final2[[\"Country Name\", \"Year\", \"Value\"]].groupby(by=\"Year\").Value.mean()\n",
    "global_change.plot(kind= \"bar\", title= \"global temperature change\")\n"
   ]
  },
  {
   "cell_type": "code",
   "execution_count": 178,
   "id": "887fb578",
   "metadata": {},
   "outputs": [
    {
     "name": "stdout",
     "output_type": "stream",
     "text": [
      "Enter a country: Somalia\n",
      "Somalia\n",
      "the average change in temperatrueaway from the norm in Somalia since 1961 is: \n",
      "0.623\n"
     ]
    },
    {
     "data": {
      "image/png": "[encoded data removed]",
      "text/plain": [
       "<Figure size 432x288 with 1 Axes>"
      ]
     },
     "metadata": {
      "needs_background": "light"
     },
     "output_type": "display_data"
    }
   ],
   "source": [
    "#Graph temperature change for any chosen country\n",
    "\n",
    "#accept input\n",
    "\n",
    "val= input(\"Enter a country: \")\n",
    "print(val)\n",
    "\n",
    "#graph\n",
    "df_country= final[[\"Area\", \"Year\", \"Value\"]].loc[(final[\"Area\"] ==val)].groupby(by=\"Year\").Value.mean()\n",
    "\n",
    "df_country.plot(kind=\"bar\", title = \"temperature change\")\n",
    "\n",
    "\n",
    "#claculate average\n",
    "average_country_temp_change= final[[\"Area\", \"Year\", \"Value\"]].loc[(final[\"Area\"] ==val)].Value.mean()\n",
    "\n",
    "rounded_average_country_temp_change = round(average_country_temp_change,3)\n",
    "print(\"the average change in temperatrueaway from the norm in \" + str(val) + \" since 1961 is: \")\n",
    "print(rounded_average_country_temp_change)"
   ]
  },
  {
   "cell_type": "code",
   "execution_count": null,
   "id": "f09a3573",
   "metadata": {},
   "outputs": [],
   "source": [
    "#global emissions per capita\n",
    "\n",
    "global_emissions= final2[[\"Country Name\", \"Year\", \"Value_of_Emissions\"]].groupby(by=\"Year\").Value_of_Emissions.mean()\n",
    "global_emissions.plot(kind= \"bar\", title= \"global emissions per capita in tons of co2\")"
   ]
  },
  {
   "cell_type": "code",
   "execution_count": null,
   "id": "05347ffd",
   "metadata": {},
   "outputs": [],
   "source": [
    "\n",
    "\n",
    "\n",
    "#Emissions per capita\n",
    "\n",
    "\n",
    "valz= input(\"Enter a country: \")\n",
    "print(valz)\n",
    "\n",
    "\n",
    "df_country3= final2[[\"Country Name\", \"Year\", \"Value_of_Emissions\"]].loc[(final[\"Country Name\"] ==valz)].groupby(by=\"Year\").Value_of_Emissions.mean()\n",
    "\n",
    "df_country3.plot(kind=\"bar\", title = \"emissions per capita\")\n",
    "\n",
    "\n",
    "#claculate average\n",
    "average_country_emissions_per_capita= final2[[\"Area\", \"Year\", \"Value_of_Emissions\"]].loc[(final2[\"Area\"] ==valz)].Value_of_Emissions.mean()\n",
    "\n",
    "rounded_average_country_emissions_per_capita = round(average_country_emissions_per_capita,10)\n",
    "print(\"the average emissions per capita in \" + str(valz) + \" since 1961 is: \")\n",
    "print(rounded_average_country_emissions_per_capita)\n",
    "\n",
    "\n"
   ]
  },
  {
   "cell_type": "code",
   "execution_count": 287,
   "id": "59194449",
   "metadata": {},
   "outputs": [
    {
     "data": {
      "text/plain": [
       "<AxesSubplot:title={'center':'global populaiton'}, xlabel='Year'>"
      ]
     },
     "execution_count": 287,
     "metadata": {},
     "output_type": "execute_result"
    },
    {
     "data": {
      "image/png": "[encoded data removed]",
      "text/plain": [
       "<Figure size 432x288 with 1 Axes>"
      ]
     },
     "metadata": {
      "needs_background": "light"
     },
     "output_type": "display_data"
    }
   ],
   "source": [
    "#graph population of earth\n",
    "\n",
    "global_pop= final2[[\"Country Name\", \"Year\", \"Population\"]].groupby(by=\"Year\").Population.mean()\n",
    "global_pop.plot(kind= \"bar\", title= \"global populaiton\")\n"
   ]
  },
  {
   "cell_type": "code",
   "execution_count": 305,
   "id": "7407953b",
   "metadata": {},
   "outputs": [
    {
     "name": "stdout",
     "output_type": "stream",
     "text": [
      "Enter a country: Iraq\n",
      "Iraq\n",
      "the average population over the last 60 years in Iraq is: \n",
      "19936289\n"
     ]
    },
    {
     "data": {
      "image/png": "[encoded data removed]",
      "text/plain": [
       "<Figure size 432x288 with 1 Axes>"
      ]
     },
     "metadata": {
      "needs_background": "light"
     },
     "output_type": "display_data"
    }
   ],
   "source": [
    "#population of any country\n",
    "\n",
    "#accept user input\n",
    "val2= input(\"Enter a country: \")\n",
    "print(val2)\n",
    "\n",
    "\n",
    "df_country3= final2[[\"Area\", \"Year\", \"Population\"]].loc[(final[\"Area\"] ==val2)].groupby(by=\"Year\").Population.mean()\n",
    "\n",
    "df_country3.plot(kind=\"bar\", title = \"Populaiton\")\n",
    "\n",
    "\n",
    "#claculate average\n",
    "average_country_pop= final2[[\"Area\", \"Year\", \"Population\"]].loc[(final2[\"Area\"] ==val2)].Population.mean()\n",
    "\n",
    "rounded_average_country_pop = round(average_country_pop)\n",
    "print(\"the average population over the last 60 years in \" + str(val2) + \" is: \")\n",
    "print(rounded_average_country_pop)"
   ]
  },
  {
   "cell_type": "code",
   "execution_count": 382,
   "id": "c3154973",
   "metadata": {},
   "outputs": [
    {
     "data": {
      "text/plain": [
       "<AxesSubplot:title={'center':'global emissions per capita'}, xlabel='Year'>"
      ]
     },
     "execution_count": 382,
     "metadata": {},
     "output_type": "execute_result"
    },
    {
     "data": {
      "image/png": "[encoded data removed]",
      "text/plain": [
       "<Figure size 432x288 with 1 Axes>"
      ]
     },
     "metadata": {
      "needs_background": "light"
     },
     "output_type": "display_data"
    }
   ],
   "source": [
    "#global emissions\n",
    "final2.head()\n",
    "\n",
    "global_emis= final2[[\"Area\", \"Year\", \"Value_of_Emissions\"]].groupby(by=\"Year\").Value_of_Emissions.mean()\n",
    "global_emis.plot(kind= \"bar\", title= \"global emissions per capita\")\n"
   ]
  },
  {
   "cell_type": "code",
   "execution_count": 253,
   "id": "1590c880",
   "metadata": {},
   "outputs": [
    {
     "name": "stdout",
     "output_type": "stream",
     "text": [
      "Enter a country: France\n",
      "France\n",
      "the average emissions over the last 60 years in France is: \n",
      "6.744\n",
      "tons of C02\n"
     ]
    },
    {
     "data": {
      "image/png": "[encoded data removed]",
      "text/plain": [
       "<Figure size 432x288 with 1 Axes>"
      ]
     },
     "metadata": {
      "needs_background": "light"
     },
     "output_type": "display_data"
    }
   ],
   "source": [
    "#graph total emissions of any country\n",
    "\n",
    "val5= input(\"Enter a country: \")\n",
    "print(val5)\n",
    "\n",
    "\n",
    "df_country4= final2[[\"Area\", \"Year\", \"Value_of_Emissions\"]].loc[(final[\"Area\"] ==val5)].groupby(by=\"Year\").Value_of_Emissions.mean()\n",
    "\n",
    "df_country4.plot(kind=\"bar\", title = \"Value_of_Emissions\")\n",
    "\n",
    "\n",
    "#claculate average\n",
    "average_country_emiss= final2[[\"Area\", \"Year\", \"Value_of_Emissions\"]].loc[(final2[\"Area\"] ==val2)].Value_of_Emissions.mean()\n",
    "\n",
    "rounded_average_country_emiss = round(average_country_emiss, 3)\n",
    "print(\"the average emissions over the last 60 years in \" + str(val5) + \" is: \")\n",
    "print(rounded_average_country_emiss)\n",
    "print(\"tons of C02\")"
   ]
  },
  {
   "cell_type": "code",
   "execution_count": 383,
   "id": "95fbb409",
   "metadata": {},
   "outputs": [
    {
     "name": "stdout",
     "output_type": "stream",
     "text": [
      "usa emission\n"
     ]
    },
    {
     "data": {
      "text/plain": [
       "<AxesSubplot:title={'center':'US per capita emissions over the years'}, xlabel='Year'>"
      ]
     },
     "execution_count": 383,
     "metadata": {},
     "output_type": "execute_result"
    },
    {
     "data": {
      "image/png": "[encoded data removed]",
      "text/plain": [
       "<Figure size 432x288 with 1 Axes>"
      ]
     },
     "metadata": {
      "needs_background": "light"
     },
     "output_type": "display_data"
    }
   ],
   "source": [
    "#graph emissions just of usa\n",
    "\n",
    "print(\"usa emission\")\n",
    "df_usa= final2[[\"Country Name\", \"Year\", \"Value_of_Emissions\"]].loc[(final2[\"Country Name\"] ==\"United States\")].groupby(by=\"Year\").Value_of_Emissions.mean()\n",
    "\n",
    "df_usa.plot(kind= \"bar\", title = \"US per capita emissions over the years\")\n",
    "\n"
   ]
  },
  {
   "cell_type": "code",
   "execution_count": 386,
   "id": "f8fb2b6c",
   "metadata": {},
   "outputs": [
    {
     "name": "stdout",
     "output_type": "stream",
     "text": [
      " per capita usa emission\n"
     ]
    },
    {
     "data": {
      "text/plain": [
       "<AxesSubplot:title={'center':'US  per capita emissions over the years'}, xlabel='Year'>"
      ]
     },
     "execution_count": 386,
     "metadata": {},
     "output_type": "execute_result"
    },
    {
     "data": {
      "image/png": "[encoded data removed]",
      "text/plain": [
       "<Figure size 432x288 with 1 Axes>"
      ]
     },
     "metadata": {
      "needs_background": "light"
     },
     "output_type": "display_data"
    }
   ],
   "source": [
    "#Graph us per capita emissions\n",
    "\n",
    "print(\" per capita usa emission\")\n",
    "df_usa= final2[[\"Country Name\", \"Year\", \"Value_of_Emissions\"]].loc[(final2[\"Country Name\"] ==\"United States\")].groupby(by=\"Year\").Value_of_Emissions.mean()\n",
    "\n",
    "df_usa.plot(kind= \"bar\", title = \"US  per capita emissions over the years\")\n",
    "\n"
   ]
  },
  {
   "cell_type": "code",
   "execution_count": 319,
   "id": "c4e8b6b7",
   "metadata": {},
   "outputs": [
    {
     "name": "stdout",
     "output_type": "stream",
     "text": [
      "Empty DataFrame\n",
      "Columns: [Country Name, Year, Population]\n",
      "Index: []\n",
      "Empty DataFrame\n",
      "Columns: [Country Name, Year, Population]\n",
      "Index: []\n"
     ]
    }
   ],
   "source": [
    "#dataset is missiing Syria and Palestine\n",
    "\n",
    "final2.head()\n",
    "\n",
    "df_syria= final2[[\"Country Name\", \"Year\", \"Population\"]].loc[(final2[\"Country Name\"] ==\"Syria\")]\n",
    "print(df_syria.head(60))\n",
    "\n",
    "df_palestine= final2[[\"Country Name\", \"Year\", \"Population\"]].loc[(final2[\"Country Name\"] ==\"Palestine\")]\n",
    "print(df_palestine.head(60))\n",
    "\n",
    "#dataset is missiing Syria and palestine"
   ]
  },
  {
   "cell_type": "code",
   "execution_count": 388,
   "id": "03ebb11b",
   "metadata": {},
   "outputs": [
    {
     "name": "stdout",
     "output_type": "stream",
     "text": [
      "                  Country Name Country Code_x    Year  Value_of_Emissions  \\\n",
      "0                        Aruba            ABW  1960.0                 NaN   \n",
      "1  Africa Eastern and Southern            AFE  1960.0            0.906060   \n",
      "2                  Afghanistan            AFG  1960.0            0.046057   \n",
      "3   Africa Western and Central            AFW  1960.0            0.090880   \n",
      "4                       Angola            AGO  1960.0            0.100835   \n",
      "\n",
      "    Population  Total_emissions Area  Value  \n",
      "0      54208.0              NaN  NaN    NaN  \n",
      "1  130836765.0     1.185459e+08  NaN    NaN  \n",
      "2    8996967.0     4.143710e+05  NaN    NaN  \n",
      "3   96396419.0     8.760463e+06  NaN    NaN  \n",
      "4    5454938.0     5.500500e+05  NaN    NaN  \n"
     ]
    },
    {
     "data": {
      "image/png": "[encoded data removed]",
      "text/plain": [
       "<Figure size 432x288 with 1 Axes>"
      ]
     },
     "metadata": {
      "needs_background": "light"
     },
     "output_type": "display_data"
    }
   ],
   "source": [
    "print(final2.head())\n",
    "\n",
    "import matplotlib.pyplot as plt\n",
    "plt.scatter(final2[\"Population\"], final2[\"Total_emissions\"])\n",
    "plt.xlabel(\"Population\")\n",
    "plt.ylabel(\"Total Emissions\")\n",
    "plt.title(\"Emissions by population\")\n",
    "plt.show()"
   ]
  },
  {
   "cell_type": "code",
   "execution_count": 392,
   "id": "79eb50c6",
   "metadata": {},
   "outputs": [
    {
     "data": {
      "image/png": "[encoded data removed]",
      "text/plain": [
       "<Figure size 432x288 with 1 Axes>"
      ]
     },
     "metadata": {
      "needs_background": "light"
     },
     "output_type": "display_data"
    }
   ],
   "source": [
    "#wait- this doesn't make sense. You'd expect emissions per capita to rise with total emissions\n",
    "\n",
    "plt.scatter(final2[\"Value_of_Emissions\"], final2[\"Total_emissions\"])\n",
    "plt.xlabel(\"emissions per capita\")\n",
    "plt.ylabel(\"Total Emissions\")\n",
    "plt.title(\"Emissions  per capita\")\n",
    "plt.show()"
   ]
  },
  {
   "cell_type": "code",
   "execution_count": 394,
   "id": "cc27becb",
   "metadata": {},
   "outputs": [
    {
     "data": {
      "image/png": "[encoded data removed]",
      "text/plain": [
       "<Figure size 432x288 with 1 Axes>"
      ]
     },
     "metadata": {
      "needs_background": "light"
     },
     "output_type": "display_data"
    }
   ],
   "source": [
    "#this shows lower populations having more emissions oer capita\n",
    "plt.scatter(final2[\"Value_of_Emissions\"], final2[\"Population\"])\n",
    "plt.xlabel(\"emission s epr capita\")\n",
    "plt.ylabel(\"Population\")\n",
    "plt.title(\"emissions per capita and Population\")\n",
    "plt.show()"
   ]
  },
  {
   "cell_type": "code",
   "execution_count": 396,
   "id": "47c524d0",
   "metadata": {},
   "outputs": [
    {
     "data": {
      "image/png": "[encoded data removed]",
      "text/plain": [
       "<Figure size 432x288 with 1 Axes>"
      ]
     },
     "metadata": {
      "needs_background": "light"
     },
     "output_type": "display_data"
    }
   ],
   "source": [
    "#graphiong emissions oepr capita and change in temp\n",
    "plt.scatter(final2[\"Value_of_Emissions\"], final2[\"Value\"])\n",
    "plt.xlabel(\"Emissions_per_capita\")\n",
    "plt.ylabel(\"change in temp\")\n",
    "plt.title(\"emissions per capita and change in temp\")\n",
    "plt.show()"
   ]
  },
  {
   "cell_type": "code",
   "execution_count": 336,
   "id": "5f93d5ac",
   "metadata": {},
   "outputs": [
    {
     "data": {
      "image/png": "[encoded data removed]",
      "text/plain": [
       "<Figure size 432x288 with 1 Axes>"
      ]
     },
     "metadata": {
      "needs_background": "light"
     },
     "output_type": "display_data"
    }
   ],
   "source": [
    "#graphing poulaiton vs change in temp\n",
    "plt.scatter(final2[\"Population\"], final2[\"Value\"])\n",
    "plt.xlabel(\"Population\")\n",
    "plt.ylabel(\"change in temp\")\n",
    "plt.title(\"Population and change in temp\")\n",
    "plt.show()"
   ]
  },
  {
   "cell_type": "code",
   "execution_count": 397,
   "id": "0ab36506",
   "metadata": {},
   "outputs": [
    {
     "data": {
      "image/png": "[encoded data removed]",
      "text/plain": [
       "<Figure size 432x288 with 1 Axes>"
      ]
     },
     "metadata": {
      "needs_background": "light"
     },
     "output_type": "display_data"
    }
   ],
   "source": [
    "plt.scatter(final2[\"Value_of_Emissions\"], final2[\"Value\"])\n",
    "plt.xlabel(\"Value_of_Emissions\")\n",
    "plt.ylabel(\"change in tmep\")\n",
    "plt.title(\"emissions per capita and change in temp\")\n",
    "plt.show()"
   ]
  },
  {
   "cell_type": "code",
   "execution_count": 398,
   "id": "93f8ead9",
   "metadata": {},
   "outputs": [
    {
     "data": {
      "image/png": "[encoded data removed]",
      "text/plain": [
       "<Figure size 432x288 with 1 Axes>"
      ]
     },
     "metadata": {
      "needs_background": "light"
     },
     "output_type": "display_data"
    }
   ],
   "source": [
    "plt.scatter(final2[\"Year\"], final2[\"Value_of_Emissions\"])\n",
    "plt.xlabel(\"Year\")\n",
    "plt.ylabel(\"Value_of_Emissions\")\n",
    "plt.title(\"emissions per capita and Year\")\n",
    "plt.show()"
   ]
  },
  {
   "cell_type": "code",
   "execution_count": 399,
   "id": "c2dcf2d2",
   "metadata": {},
   "outputs": [
    {
     "name": "stdout",
     "output_type": "stream",
     "text": [
      "<class 'pandas.core.series.Series'>\n"
     ]
    }
   ],
   "source": [
    "print(type(final2['Value']))"
   ]
  },
  {
   "cell_type": "code",
   "execution_count": null,
   "id": "22d1445e",
   "metadata": {},
   "outputs": [],
   "source": [
    "\n",
    "#drop na values\n",
    "\n",
    "final3= final2.dropna()\n",
    "\n",
    "#set x as dependent variables and y as independent variable\n",
    "\n",
    "x = final3[[ 'Population', 'Value_of_Emissions']]\n",
    "y = final3['Value']\n",
    "\n",
    "#import regression modeling ability\n",
    "from sklearn import linear_model\n",
    "\n",
    "regr = linear_model.LinearRegression()\n",
    "regr.fit(x, y)\n",
    "\n",
    "#put in sample predictive values\n",
    "predicted_temp_change = regr.predict([[8000000000, 4.5]])\n",
    "print(\"If the population is 8000000000, and the per capita C02 output is 4.5, then the expected change in temperature is: \")\n",
    "print(predicted_temp_change)\n",
    "\n",
    "\n",
    "print(\"The average per capita Co2 output is currently 4.7 tos of Co2. The world populaiton is 8 billion\")\n",
    "\n",
    "print(\"In the US, the per-capita C02 is 15 tons. If the whole world used C02 like the us, the temp change would be: \")\n",
    "golbal_preidcted_temp_us= regr.predict([[8400000000, 15]])\n",
    "print(golbal_preidcted_temp_us)\n",
    "\n",
    "#allow user input\n",
    "\n",
    "a= input(\"Choose a populaiton size\")\n",
    "b= input(\"choose a per capita  amount of tons of Co2 \")\n",
    "\n",
    "\n",
    "print(\"If the population is \" + str(a) +\", and the pe capita C02 output is \" + str(b) +\", then the expected change in temperature is: \")\n",
    "user_preidcted_temp= regr.predict([[a, b]])\n",
    "print(user_preidcted_temp)\n"
   ]
  },
  {
   "cell_type": "code",
   "execution_count": null,
   "id": "5f48fd0b",
   "metadata": {},
   "outputs": [],
   "source": [
    "#drop na values\n",
    "\n",
    "final3= final2.dropna()\n",
    "\n",
    "#set x as dependent variables and y as independent variable\n",
    "\n",
    "i = final3[[ 'Population', 'Total_emissions']]\n",
    "d = final3['Value']\n",
    "\n",
    "#import regression modeling ability\n",
    "from sklearn import linear_model\n",
    "\n",
    "regr = linear_model.LinearRegression()\n",
    "regr.fit(i, d)\n",
    "\n",
    "#put in sample predictive values\n",
    "predicted_temp_change2 = regr.predict([[8000000000, 4000000000]])\n",
    "print(\"If the population is 8000000000, and the total C02 output is 4000000000, then the expected change in temperature is: \")\n",
    "print(predicted_temp_change2)\n",
    "\n",
    "\n",
    "\n",
    "\n",
    "\n",
    "#allow user input\n",
    "\n",
    "c= input(\"Choose a populaiton size\")\n",
    "d= input(\"choose an amount of tons of Co2 \")\n",
    "\n",
    "\n",
    "print(\"If the population is \" + str(c) +\", and the C02 output is \" + str(d) +\", then the expected change in temperature is: \")\n",
    "user_preidcted_temp2= regr.predict([[c, d]])\n",
    "print(user_preidcted_temp2)\n",
    "\n",
    "print(\"currently, the earth's populaiton is 8 billion, and 34 billions tons of Co2 are prudcued each year.\")\n"
   ]
  },
  {
   "cell_type": "code",
   "execution_count": null,
   "id": "6b0ab3ac",
   "metadata": {},
   "outputs": [],
   "source": [
    "#set x as dependent variables and y as independent variable\n",
    "\n",
    "i = final3[[ 'Population', 'Total_emissions', \"Year\"]]\n",
    "d = final3['Value']\n",
    "\n",
    "#import regression modeling ability\n",
    "from sklearn import linear_model\n",
    "\n",
    "regr = linear_model.LinearRegression()\n",
    "regr.fit(i, d)\n",
    "\n",
    "#put in sample predictive values\n",
    "predicted_temp_change3 = regr.predict([[8000000000, 40000000000, 2025]])\n",
    "print(\"In 2025, If the population is 8 billion, and the total C02 output is 40 billion, then the expected change in temperature is: \")\n",
    "print(predicted_temp_change3)\n",
    "\n",
    "\n",
    "print(\"currently, the earth's populaiton is 8 billion, and 34 billions tons of Co2 are prudcued each year.\")\n",
    "\n",
    "#allow user input\n",
    "\n",
    "c= input(\"Choose a populaiton size\")\n",
    "d= input(\"choose an amount of tons of Co2 \")\n",
    "e= input(\"year\")\n",
    "\n",
    "print(\"In the year \" + str(e) + \" If the population is \" + str(c) +\", and the C02 output is \" + str(d) +\", then the expected change in temperature is: \")\n",
    "user_preidcted_temp3= regr.predict([[c, d, e]])\n",
    "print(user_preidcted_temp3)\n",
    "\n",
    "\n"
   ]
  },
  {
   "cell_type": "code",
   "execution_count": null,
   "id": "55c0fef7",
   "metadata": {},
   "outputs": [],
   "source": []
  },
  {
   "cell_type": "code",
   "execution_count": null,
   "id": "d85288d0",
   "metadata": {},
   "outputs": [],
   "source": []
  }
 ],
 "metadata": {
  "kernelspec": {
   "display_name": "Python 3 (ipykernel)",
   "language": "python",
   "name": "python3"
  },
  "language_info": {
   "codemirror_mode": {
    "name": "ipython",
    "version": 3
   },
   "file_extension": ".py",
   "mimetype": "text/x-python",
   "name": "python",
   "nbconvert_exporter": "python",
   "pygments_lexer": "ipython3",
   "version": "3.9.7"
  }
 },
 "nbformat": 4,
 "nbformat_minor": 5
}
